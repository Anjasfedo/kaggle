{
 "cells": [
  {
   "cell_type": "markdown",
   "id": "057c4fc4",
   "metadata": {
    "papermill": {
     "duration": 0.008306,
     "end_time": "2024-06-19T15:26:05.558776",
     "exception": false,
     "start_time": "2024-06-19T15:26:05.550470",
     "status": "completed"
    },
    "tags": []
   },
   "source": [
    "# Prepare Data"
   ]
  },
  {
   "cell_type": "code",
   "execution_count": 1,
   "id": "4188aa90",
   "metadata": {
    "_cell_guid": "b1076dfc-b9ad-4769-8c92-a6c4dae69d19",
    "_uuid": "8f2839f25d086af736a60e9eeb907d3b93b6e0e5",
    "execution": {
     "iopub.execute_input": "2024-06-19T15:26:05.575984Z",
     "iopub.status.busy": "2024-06-19T15:26:05.575549Z",
     "iopub.status.idle": "2024-06-19T15:26:06.610082Z",
     "shell.execute_reply": "2024-06-19T15:26:06.608383Z"
    },
    "papermill": {
     "duration": 1.046636,
     "end_time": "2024-06-19T15:26:06.613191",
     "exception": false,
     "start_time": "2024-06-19T15:26:05.566555",
     "status": "completed"
    },
    "tags": []
   },
   "outputs": [
    {
     "name": "stdout",
     "output_type": "stream",
     "text": [
      "/kaggle/input/chronic-kidney-disease-dataset-analysis/Chronic_Kidney_Dsease_data.csv\n"
     ]
    }
   ],
   "source": [
    "# This Python 3 environment comes with many helpful analytics libraries installed\n",
    "# It is defined by the kaggle/python Docker image: https://github.com/kaggle/docker-python\n",
    "# For example, here's several helpful packages to load\n",
    "\n",
    "import numpy as np # linear algebra\n",
    "import pandas as pd # data processing, CSV file I/O (e.g. pd.read_csv)\n",
    "\n",
    "# Input data files are available in the read-only \"../input/\" directory\n",
    "# For example, running this (by clicking run or pressing Shift+Enter) will list all files under the input directory\n",
    "\n",
    "import os\n",
    "for dirname, _, filenames in os.walk('/kaggle/input'):\n",
    "    for filename in filenames:\n",
    "        print(os.path.join(dirname, filename))\n",
    "\n",
    "# You can write up to 20GB to the current directory (/kaggle/working/) that gets preserved as output when you create a version using \"Save & Run All\" \n",
    "# You can also write temporary files to /kaggle/temp/, but they won't be saved outside of the current session"
   ]
  },
  {
   "cell_type": "code",
   "execution_count": 2,
   "id": "b21869cf",
   "metadata": {
    "execution": {
     "iopub.execute_input": "2024-06-19T15:26:06.630977Z",
     "iopub.status.busy": "2024-06-19T15:26:06.630393Z",
     "iopub.status.idle": "2024-06-19T15:26:06.729157Z",
     "shell.execute_reply": "2024-06-19T15:26:06.727844Z"
    },
    "papermill": {
     "duration": 0.110635,
     "end_time": "2024-06-19T15:26:06.731830",
     "exception": false,
     "start_time": "2024-06-19T15:26:06.621195",
     "status": "completed"
    },
    "tags": []
   },
   "outputs": [
    {
     "data": {
      "text/html": [
       "<div>\n",
       "<style scoped>\n",
       "    .dataframe tbody tr th:only-of-type {\n",
       "        vertical-align: middle;\n",
       "    }\n",
       "\n",
       "    .dataframe tbody tr th {\n",
       "        vertical-align: top;\n",
       "    }\n",
       "\n",
       "    .dataframe thead th {\n",
       "        text-align: right;\n",
       "    }\n",
       "</style>\n",
       "<table border=\"1\" class=\"dataframe\">\n",
       "  <thead>\n",
       "    <tr style=\"text-align: right;\">\n",
       "      <th></th>\n",
       "      <th>PatientID</th>\n",
       "      <th>Age</th>\n",
       "      <th>Gender</th>\n",
       "      <th>Ethnicity</th>\n",
       "      <th>SocioeconomicStatus</th>\n",
       "      <th>EducationLevel</th>\n",
       "      <th>BMI</th>\n",
       "      <th>Smoking</th>\n",
       "      <th>AlcoholConsumption</th>\n",
       "      <th>PhysicalActivity</th>\n",
       "      <th>...</th>\n",
       "      <th>Itching</th>\n",
       "      <th>QualityOfLifeScore</th>\n",
       "      <th>HeavyMetalsExposure</th>\n",
       "      <th>OccupationalExposureChemicals</th>\n",
       "      <th>WaterQuality</th>\n",
       "      <th>MedicalCheckupsFrequency</th>\n",
       "      <th>MedicationAdherence</th>\n",
       "      <th>HealthLiteracy</th>\n",
       "      <th>Diagnosis</th>\n",
       "      <th>DoctorInCharge</th>\n",
       "    </tr>\n",
       "  </thead>\n",
       "  <tbody>\n",
       "    <tr>\n",
       "      <th>0</th>\n",
       "      <td>1</td>\n",
       "      <td>71</td>\n",
       "      <td>0</td>\n",
       "      <td>0</td>\n",
       "      <td>0</td>\n",
       "      <td>2</td>\n",
       "      <td>31.069414</td>\n",
       "      <td>1</td>\n",
       "      <td>5.128112</td>\n",
       "      <td>1.676220</td>\n",
       "      <td>...</td>\n",
       "      <td>7.556302</td>\n",
       "      <td>76.076800</td>\n",
       "      <td>0</td>\n",
       "      <td>0</td>\n",
       "      <td>1</td>\n",
       "      <td>1.018824</td>\n",
       "      <td>4.966808</td>\n",
       "      <td>9.871449</td>\n",
       "      <td>1</td>\n",
       "      <td>Confidential</td>\n",
       "    </tr>\n",
       "    <tr>\n",
       "      <th>1</th>\n",
       "      <td>2</td>\n",
       "      <td>34</td>\n",
       "      <td>0</td>\n",
       "      <td>0</td>\n",
       "      <td>1</td>\n",
       "      <td>3</td>\n",
       "      <td>29.692119</td>\n",
       "      <td>1</td>\n",
       "      <td>18.609552</td>\n",
       "      <td>8.377574</td>\n",
       "      <td>...</td>\n",
       "      <td>6.836766</td>\n",
       "      <td>40.128498</td>\n",
       "      <td>0</td>\n",
       "      <td>0</td>\n",
       "      <td>0</td>\n",
       "      <td>3.923538</td>\n",
       "      <td>8.189275</td>\n",
       "      <td>7.161765</td>\n",
       "      <td>1</td>\n",
       "      <td>Confidential</td>\n",
       "    </tr>\n",
       "    <tr>\n",
       "      <th>2</th>\n",
       "      <td>3</td>\n",
       "      <td>80</td>\n",
       "      <td>1</td>\n",
       "      <td>1</td>\n",
       "      <td>0</td>\n",
       "      <td>1</td>\n",
       "      <td>37.394822</td>\n",
       "      <td>1</td>\n",
       "      <td>11.882429</td>\n",
       "      <td>9.607401</td>\n",
       "      <td>...</td>\n",
       "      <td>2.144722</td>\n",
       "      <td>92.872842</td>\n",
       "      <td>0</td>\n",
       "      <td>1</td>\n",
       "      <td>1</td>\n",
       "      <td>1.429906</td>\n",
       "      <td>7.624028</td>\n",
       "      <td>7.354632</td>\n",
       "      <td>1</td>\n",
       "      <td>Confidential</td>\n",
       "    </tr>\n",
       "    <tr>\n",
       "      <th>3</th>\n",
       "      <td>4</td>\n",
       "      <td>40</td>\n",
       "      <td>0</td>\n",
       "      <td>2</td>\n",
       "      <td>0</td>\n",
       "      <td>1</td>\n",
       "      <td>31.329680</td>\n",
       "      <td>0</td>\n",
       "      <td>16.020165</td>\n",
       "      <td>0.408871</td>\n",
       "      <td>...</td>\n",
       "      <td>7.077188</td>\n",
       "      <td>90.080321</td>\n",
       "      <td>0</td>\n",
       "      <td>0</td>\n",
       "      <td>0</td>\n",
       "      <td>3.226416</td>\n",
       "      <td>3.282688</td>\n",
       "      <td>6.629587</td>\n",
       "      <td>1</td>\n",
       "      <td>Confidential</td>\n",
       "    </tr>\n",
       "    <tr>\n",
       "      <th>4</th>\n",
       "      <td>5</td>\n",
       "      <td>43</td>\n",
       "      <td>0</td>\n",
       "      <td>1</td>\n",
       "      <td>1</td>\n",
       "      <td>2</td>\n",
       "      <td>23.726311</td>\n",
       "      <td>0</td>\n",
       "      <td>7.944146</td>\n",
       "      <td>0.780319</td>\n",
       "      <td>...</td>\n",
       "      <td>3.553118</td>\n",
       "      <td>5.258372</td>\n",
       "      <td>0</td>\n",
       "      <td>0</td>\n",
       "      <td>1</td>\n",
       "      <td>0.285466</td>\n",
       "      <td>3.849498</td>\n",
       "      <td>1.437385</td>\n",
       "      <td>1</td>\n",
       "      <td>Confidential</td>\n",
       "    </tr>\n",
       "  </tbody>\n",
       "</table>\n",
       "<p>5 rows × 54 columns</p>\n",
       "</div>"
      ],
      "text/plain": [
       "   PatientID  Age  Gender  Ethnicity  SocioeconomicStatus  EducationLevel  \\\n",
       "0          1   71       0          0                    0               2   \n",
       "1          2   34       0          0                    1               3   \n",
       "2          3   80       1          1                    0               1   \n",
       "3          4   40       0          2                    0               1   \n",
       "4          5   43       0          1                    1               2   \n",
       "\n",
       "         BMI  Smoking  AlcoholConsumption  PhysicalActivity  ...   Itching  \\\n",
       "0  31.069414        1            5.128112          1.676220  ...  7.556302   \n",
       "1  29.692119        1           18.609552          8.377574  ...  6.836766   \n",
       "2  37.394822        1           11.882429          9.607401  ...  2.144722   \n",
       "3  31.329680        0           16.020165          0.408871  ...  7.077188   \n",
       "4  23.726311        0            7.944146          0.780319  ...  3.553118   \n",
       "\n",
       "   QualityOfLifeScore  HeavyMetalsExposure  OccupationalExposureChemicals  \\\n",
       "0           76.076800                    0                              0   \n",
       "1           40.128498                    0                              0   \n",
       "2           92.872842                    0                              1   \n",
       "3           90.080321                    0                              0   \n",
       "4            5.258372                    0                              0   \n",
       "\n",
       "   WaterQuality  MedicalCheckupsFrequency  MedicationAdherence  \\\n",
       "0             1                  1.018824             4.966808   \n",
       "1             0                  3.923538             8.189275   \n",
       "2             1                  1.429906             7.624028   \n",
       "3             0                  3.226416             3.282688   \n",
       "4             1                  0.285466             3.849498   \n",
       "\n",
       "   HealthLiteracy  Diagnosis  DoctorInCharge  \n",
       "0        9.871449          1    Confidential  \n",
       "1        7.161765          1    Confidential  \n",
       "2        7.354632          1    Confidential  \n",
       "3        6.629587          1    Confidential  \n",
       "4        1.437385          1    Confidential  \n",
       "\n",
       "[5 rows x 54 columns]"
      ]
     },
     "execution_count": 2,
     "metadata": {},
     "output_type": "execute_result"
    }
   ],
   "source": [
    "import pandas as pd\n",
    "\n",
    "file_path = \"/kaggle/input/chronic-kidney-disease-dataset-analysis/Chronic_Kidney_Dsease_data.csv\"\n",
    "\n",
    "data = pd.read_csv(file_path)\n",
    "\n",
    "df = pd.DataFrame(data)\n",
    "df.head()"
   ]
  },
  {
   "cell_type": "code",
   "execution_count": 3,
   "id": "580f4e20",
   "metadata": {
    "execution": {
     "iopub.execute_input": "2024-06-19T15:26:06.751828Z",
     "iopub.status.busy": "2024-06-19T15:26:06.751337Z",
     "iopub.status.idle": "2024-06-19T15:26:21.070350Z",
     "shell.execute_reply": "2024-06-19T15:26:21.069046Z"
    },
    "papermill": {
     "duration": 14.334895,
     "end_time": "2024-06-19T15:26:21.075734",
     "exception": false,
     "start_time": "2024-06-19T15:26:06.740839",
     "status": "completed"
    },
    "tags": []
   },
   "outputs": [
    {
     "data": {
      "text/plain": [
       "array([[<Axes: title={'center': 'PatientID'}>,\n",
       "        <Axes: title={'center': 'Age'}>,\n",
       "        <Axes: title={'center': 'Gender'}>,\n",
       "        <Axes: title={'center': 'Ethnicity'}>,\n",
       "        <Axes: title={'center': 'SocioeconomicStatus'}>,\n",
       "        <Axes: title={'center': 'EducationLevel'}>,\n",
       "        <Axes: title={'center': 'BMI'}>],\n",
       "       [<Axes: title={'center': 'Smoking'}>,\n",
       "        <Axes: title={'center': 'AlcoholConsumption'}>,\n",
       "        <Axes: title={'center': 'PhysicalActivity'}>,\n",
       "        <Axes: title={'center': 'DietQuality'}>,\n",
       "        <Axes: title={'center': 'SleepQuality'}>,\n",
       "        <Axes: title={'center': 'FamilyHistoryKidneyDisease'}>,\n",
       "        <Axes: title={'center': 'FamilyHistoryHypertension'}>],\n",
       "       [<Axes: title={'center': 'FamilyHistoryDiabetes'}>,\n",
       "        <Axes: title={'center': 'PreviousAcuteKidneyInjury'}>,\n",
       "        <Axes: title={'center': 'UrinaryTractInfections'}>,\n",
       "        <Axes: title={'center': 'SystolicBP'}>,\n",
       "        <Axes: title={'center': 'DiastolicBP'}>,\n",
       "        <Axes: title={'center': 'FastingBloodSugar'}>,\n",
       "        <Axes: title={'center': 'HbA1c'}>],\n",
       "       [<Axes: title={'center': 'SerumCreatinine'}>,\n",
       "        <Axes: title={'center': 'BUNLevels'}>,\n",
       "        <Axes: title={'center': 'GFR'}>,\n",
       "        <Axes: title={'center': 'ProteinInUrine'}>,\n",
       "        <Axes: title={'center': 'ACR'}>,\n",
       "        <Axes: title={'center': 'SerumElectrolytesSodium'}>,\n",
       "        <Axes: title={'center': 'SerumElectrolytesPotassium'}>],\n",
       "       [<Axes: title={'center': 'SerumElectrolytesCalcium'}>,\n",
       "        <Axes: title={'center': 'SerumElectrolytesPhosphorus'}>,\n",
       "        <Axes: title={'center': 'HemoglobinLevels'}>,\n",
       "        <Axes: title={'center': 'CholesterolTotal'}>,\n",
       "        <Axes: title={'center': 'CholesterolLDL'}>,\n",
       "        <Axes: title={'center': 'CholesterolHDL'}>,\n",
       "        <Axes: title={'center': 'CholesterolTriglycerides'}>],\n",
       "       [<Axes: title={'center': 'ACEInhibitors'}>,\n",
       "        <Axes: title={'center': 'Diuretics'}>,\n",
       "        <Axes: title={'center': 'NSAIDsUse'}>,\n",
       "        <Axes: title={'center': 'Statins'}>,\n",
       "        <Axes: title={'center': 'AntidiabeticMedications'}>,\n",
       "        <Axes: title={'center': 'Edema'}>,\n",
       "        <Axes: title={'center': 'FatigueLevels'}>],\n",
       "       [<Axes: title={'center': 'NauseaVomiting'}>,\n",
       "        <Axes: title={'center': 'MuscleCramps'}>,\n",
       "        <Axes: title={'center': 'Itching'}>,\n",
       "        <Axes: title={'center': 'QualityOfLifeScore'}>,\n",
       "        <Axes: title={'center': 'HeavyMetalsExposure'}>,\n",
       "        <Axes: title={'center': 'OccupationalExposureChemicals'}>,\n",
       "        <Axes: title={'center': 'WaterQuality'}>],\n",
       "       [<Axes: title={'center': 'MedicalCheckupsFrequency'}>,\n",
       "        <Axes: title={'center': 'MedicationAdherence'}>,\n",
       "        <Axes: title={'center': 'HealthLiteracy'}>,\n",
       "        <Axes: title={'center': 'Diagnosis'}>, <Axes: >, <Axes: >,\n",
       "        <Axes: >]], dtype=object)"
      ]
     },
     "execution_count": 3,
     "metadata": {},
     "output_type": "execute_result"
    },
    {
     "data": {
      "image/png": "[encoded data removed]",
      "text/plain": [
       "<Figure size 2000x1500 with 56 Axes>"
      ]
     },
     "metadata": {},
     "output_type": "display_data"
    }
   ],
   "source": [
    "data.hist(bins=50, figsize=(20,15))"
   ]
  },
  {
   "cell_type": "code",
   "execution_count": 4,
   "id": "d69da79f",
   "metadata": {
    "execution": {
     "iopub.execute_input": "2024-06-19T15:26:21.102024Z",
     "iopub.status.busy": "2024-06-19T15:26:21.101605Z",
     "iopub.status.idle": "2024-06-19T15:26:21.236682Z",
     "shell.execute_reply": "2024-06-19T15:26:21.235487Z"
    },
    "papermill": {
     "duration": 0.151673,
     "end_time": "2024-06-19T15:26:21.239544",
     "exception": false,
     "start_time": "2024-06-19T15:26:21.087871",
     "status": "completed"
    },
    "tags": []
   },
   "outputs": [
    {
     "data": {
      "text/html": [
       "<div>\n",
       "<style scoped>\n",
       "    .dataframe tbody tr th:only-of-type {\n",
       "        vertical-align: middle;\n",
       "    }\n",
       "\n",
       "    .dataframe tbody tr th {\n",
       "        vertical-align: top;\n",
       "    }\n",
       "\n",
       "    .dataframe thead th {\n",
       "        text-align: right;\n",
       "    }\n",
       "</style>\n",
       "<table border=\"1\" class=\"dataframe\">\n",
       "  <thead>\n",
       "    <tr style=\"text-align: right;\">\n",
       "      <th></th>\n",
       "      <th>PatientID</th>\n",
       "      <th>Age</th>\n",
       "      <th>Gender</th>\n",
       "      <th>Ethnicity</th>\n",
       "      <th>SocioeconomicStatus</th>\n",
       "      <th>EducationLevel</th>\n",
       "      <th>BMI</th>\n",
       "      <th>Smoking</th>\n",
       "      <th>AlcoholConsumption</th>\n",
       "      <th>PhysicalActivity</th>\n",
       "      <th>...</th>\n",
       "      <th>MuscleCramps</th>\n",
       "      <th>Itching</th>\n",
       "      <th>QualityOfLifeScore</th>\n",
       "      <th>HeavyMetalsExposure</th>\n",
       "      <th>OccupationalExposureChemicals</th>\n",
       "      <th>WaterQuality</th>\n",
       "      <th>MedicalCheckupsFrequency</th>\n",
       "      <th>MedicationAdherence</th>\n",
       "      <th>HealthLiteracy</th>\n",
       "      <th>Diagnosis</th>\n",
       "    </tr>\n",
       "  </thead>\n",
       "  <tbody>\n",
       "    <tr>\n",
       "      <th>count</th>\n",
       "      <td>1659.000000</td>\n",
       "      <td>1659.000000</td>\n",
       "      <td>1659.000000</td>\n",
       "      <td>1659.00000</td>\n",
       "      <td>1659.000000</td>\n",
       "      <td>1659.000000</td>\n",
       "      <td>1659.000000</td>\n",
       "      <td>1659.000000</td>\n",
       "      <td>1659.000000</td>\n",
       "      <td>1659.000000</td>\n",
       "      <td>...</td>\n",
       "      <td>1659.000000</td>\n",
       "      <td>1659.000000</td>\n",
       "      <td>1659.000000</td>\n",
       "      <td>1659.000000</td>\n",
       "      <td>1659.000000</td>\n",
       "      <td>1659.000000</td>\n",
       "      <td>1659.000000</td>\n",
       "      <td>1659.000000</td>\n",
       "      <td>1659.000000</td>\n",
       "      <td>1659.000000</td>\n",
       "    </tr>\n",
       "    <tr>\n",
       "      <th>mean</th>\n",
       "      <td>830.000000</td>\n",
       "      <td>54.441230</td>\n",
       "      <td>0.515371</td>\n",
       "      <td>0.71308</td>\n",
       "      <td>0.977697</td>\n",
       "      <td>1.693189</td>\n",
       "      <td>27.620049</td>\n",
       "      <td>0.292948</td>\n",
       "      <td>9.969831</td>\n",
       "      <td>5.024247</td>\n",
       "      <td>...</td>\n",
       "      <td>3.525510</td>\n",
       "      <td>5.054869</td>\n",
       "      <td>49.730659</td>\n",
       "      <td>0.044002</td>\n",
       "      <td>0.103074</td>\n",
       "      <td>0.197107</td>\n",
       "      <td>2.000336</td>\n",
       "      <td>4.947788</td>\n",
       "      <td>5.144973</td>\n",
       "      <td>0.918626</td>\n",
       "    </tr>\n",
       "    <tr>\n",
       "      <th>std</th>\n",
       "      <td>479.056364</td>\n",
       "      <td>20.549757</td>\n",
       "      <td>0.499914</td>\n",
       "      <td>1.00043</td>\n",
       "      <td>0.776686</td>\n",
       "      <td>0.910611</td>\n",
       "      <td>7.288670</td>\n",
       "      <td>0.455252</td>\n",
       "      <td>5.798787</td>\n",
       "      <td>2.866274</td>\n",
       "      <td>...</td>\n",
       "      <td>2.026131</td>\n",
       "      <td>2.880460</td>\n",
       "      <td>27.827593</td>\n",
       "      <td>0.205162</td>\n",
       "      <td>0.304147</td>\n",
       "      <td>0.397934</td>\n",
       "      <td>1.141635</td>\n",
       "      <td>2.869959</td>\n",
       "      <td>2.901138</td>\n",
       "      <td>0.273492</td>\n",
       "    </tr>\n",
       "    <tr>\n",
       "      <th>min</th>\n",
       "      <td>1.000000</td>\n",
       "      <td>20.000000</td>\n",
       "      <td>0.000000</td>\n",
       "      <td>0.00000</td>\n",
       "      <td>0.000000</td>\n",
       "      <td>0.000000</td>\n",
       "      <td>15.033888</td>\n",
       "      <td>0.000000</td>\n",
       "      <td>0.021740</td>\n",
       "      <td>0.001186</td>\n",
       "      <td>...</td>\n",
       "      <td>0.006327</td>\n",
       "      <td>0.013697</td>\n",
       "      <td>0.087256</td>\n",
       "      <td>0.000000</td>\n",
       "      <td>0.000000</td>\n",
       "      <td>0.000000</td>\n",
       "      <td>0.001082</td>\n",
       "      <td>0.005392</td>\n",
       "      <td>0.004436</td>\n",
       "      <td>0.000000</td>\n",
       "    </tr>\n",
       "    <tr>\n",
       "      <th>25%</th>\n",
       "      <td>415.500000</td>\n",
       "      <td>36.000000</td>\n",
       "      <td>0.000000</td>\n",
       "      <td>0.00000</td>\n",
       "      <td>0.000000</td>\n",
       "      <td>1.000000</td>\n",
       "      <td>21.471449</td>\n",
       "      <td>0.000000</td>\n",
       "      <td>5.051156</td>\n",
       "      <td>2.555038</td>\n",
       "      <td>...</td>\n",
       "      <td>1.820793</td>\n",
       "      <td>2.532867</td>\n",
       "      <td>26.991708</td>\n",
       "      <td>0.000000</td>\n",
       "      <td>0.000000</td>\n",
       "      <td>0.000000</td>\n",
       "      <td>1.005802</td>\n",
       "      <td>2.498119</td>\n",
       "      <td>2.569561</td>\n",
       "      <td>1.000000</td>\n",
       "    </tr>\n",
       "    <tr>\n",
       "      <th>50%</th>\n",
       "      <td>830.000000</td>\n",
       "      <td>54.000000</td>\n",
       "      <td>1.000000</td>\n",
       "      <td>0.00000</td>\n",
       "      <td>1.000000</td>\n",
       "      <td>2.000000</td>\n",
       "      <td>27.652077</td>\n",
       "      <td>0.000000</td>\n",
       "      <td>9.951503</td>\n",
       "      <td>5.072395</td>\n",
       "      <td>...</td>\n",
       "      <td>3.572522</td>\n",
       "      <td>5.087086</td>\n",
       "      <td>48.970075</td>\n",
       "      <td>0.000000</td>\n",
       "      <td>0.000000</td>\n",
       "      <td>0.000000</td>\n",
       "      <td>2.040635</td>\n",
       "      <td>4.974069</td>\n",
       "      <td>5.182949</td>\n",
       "      <td>1.000000</td>\n",
       "    </tr>\n",
       "    <tr>\n",
       "      <th>75%</th>\n",
       "      <td>1244.500000</td>\n",
       "      <td>72.000000</td>\n",
       "      <td>1.000000</td>\n",
       "      <td>1.00000</td>\n",
       "      <td>2.000000</td>\n",
       "      <td>2.000000</td>\n",
       "      <td>34.015849</td>\n",
       "      <td>1.000000</td>\n",
       "      <td>14.967100</td>\n",
       "      <td>7.460563</td>\n",
       "      <td>...</td>\n",
       "      <td>5.254956</td>\n",
       "      <td>7.552093</td>\n",
       "      <td>73.913997</td>\n",
       "      <td>0.000000</td>\n",
       "      <td>0.000000</td>\n",
       "      <td>0.000000</td>\n",
       "      <td>2.947213</td>\n",
       "      <td>7.499783</td>\n",
       "      <td>7.733253</td>\n",
       "      <td>1.000000</td>\n",
       "    </tr>\n",
       "    <tr>\n",
       "      <th>max</th>\n",
       "      <td>1659.000000</td>\n",
       "      <td>90.000000</td>\n",
       "      <td>1.000000</td>\n",
       "      <td>3.00000</td>\n",
       "      <td>2.000000</td>\n",
       "      <td>3.000000</td>\n",
       "      <td>39.993532</td>\n",
       "      <td>1.000000</td>\n",
       "      <td>19.992713</td>\n",
       "      <td>9.998167</td>\n",
       "      <td>...</td>\n",
       "      <td>6.984636</td>\n",
       "      <td>9.998313</td>\n",
       "      <td>99.987510</td>\n",
       "      <td>1.000000</td>\n",
       "      <td>1.000000</td>\n",
       "      <td>1.000000</td>\n",
       "      <td>3.999469</td>\n",
       "      <td>9.992345</td>\n",
       "      <td>9.993754</td>\n",
       "      <td>1.000000</td>\n",
       "    </tr>\n",
       "  </tbody>\n",
       "</table>\n",
       "<p>8 rows × 53 columns</p>\n",
       "</div>"
      ],
      "text/plain": [
       "         PatientID          Age       Gender   Ethnicity  SocioeconomicStatus  \\\n",
       "count  1659.000000  1659.000000  1659.000000  1659.00000          1659.000000   \n",
       "mean    830.000000    54.441230     0.515371     0.71308             0.977697   \n",
       "std     479.056364    20.549757     0.499914     1.00043             0.776686   \n",
       "min       1.000000    20.000000     0.000000     0.00000             0.000000   \n",
       "25%     415.500000    36.000000     0.000000     0.00000             0.000000   \n",
       "50%     830.000000    54.000000     1.000000     0.00000             1.000000   \n",
       "75%    1244.500000    72.000000     1.000000     1.00000             2.000000   \n",
       "max    1659.000000    90.000000     1.000000     3.00000             2.000000   \n",
       "\n",
       "       EducationLevel          BMI      Smoking  AlcoholConsumption  \\\n",
       "count     1659.000000  1659.000000  1659.000000         1659.000000   \n",
       "mean         1.693189    27.620049     0.292948            9.969831   \n",
       "std          0.910611     7.288670     0.455252            5.798787   \n",
       "min          0.000000    15.033888     0.000000            0.021740   \n",
       "25%          1.000000    21.471449     0.000000            5.051156   \n",
       "50%          2.000000    27.652077     0.000000            9.951503   \n",
       "75%          2.000000    34.015849     1.000000           14.967100   \n",
       "max          3.000000    39.993532     1.000000           19.992713   \n",
       "\n",
       "       PhysicalActivity  ...  MuscleCramps      Itching  QualityOfLifeScore  \\\n",
       "count       1659.000000  ...   1659.000000  1659.000000         1659.000000   \n",
       "mean           5.024247  ...      3.525510     5.054869           49.730659   \n",
       "std            2.866274  ...      2.026131     2.880460           27.827593   \n",
       "min            0.001186  ...      0.006327     0.013697            0.087256   \n",
       "25%            2.555038  ...      1.820793     2.532867           26.991708   \n",
       "50%            5.072395  ...      3.572522     5.087086           48.970075   \n",
       "75%            7.460563  ...      5.254956     7.552093           73.913997   \n",
       "max            9.998167  ...      6.984636     9.998313           99.987510   \n",
       "\n",
       "       HeavyMetalsExposure  OccupationalExposureChemicals  WaterQuality  \\\n",
       "count          1659.000000                    1659.000000   1659.000000   \n",
       "mean              0.044002                       0.103074      0.197107   \n",
       "std               0.205162                       0.304147      0.397934   \n",
       "min               0.000000                       0.000000      0.000000   \n",
       "25%               0.000000                       0.000000      0.000000   \n",
       "50%               0.000000                       0.000000      0.000000   \n",
       "75%               0.000000                       0.000000      0.000000   \n",
       "max               1.000000                       1.000000      1.000000   \n",
       "\n",
       "       MedicalCheckupsFrequency  MedicationAdherence  HealthLiteracy  \\\n",
       "count               1659.000000          1659.000000     1659.000000   \n",
       "mean                   2.000336             4.947788        5.144973   \n",
       "std                    1.141635             2.869959        2.901138   \n",
       "min                    0.001082             0.005392        0.004436   \n",
       "25%                    1.005802             2.498119        2.569561   \n",
       "50%                    2.040635             4.974069        5.182949   \n",
       "75%                    2.947213             7.499783        7.733253   \n",
       "max                    3.999469             9.992345        9.993754   \n",
       "\n",
       "         Diagnosis  \n",
       "count  1659.000000  \n",
       "mean      0.918626  \n",
       "std       0.273492  \n",
       "min       0.000000  \n",
       "25%       1.000000  \n",
       "50%       1.000000  \n",
       "75%       1.000000  \n",
       "max       1.000000  \n",
       "\n",
       "[8 rows x 53 columns]"
      ]
     },
     "execution_count": 4,
     "metadata": {},
     "output_type": "execute_result"
    }
   ],
   "source": [
    "data.describe()"
   ]
  },
  {
   "cell_type": "code",
   "execution_count": 5,
   "id": "d4096f07",
   "metadata": {
    "execution": {
     "iopub.execute_input": "2024-06-19T15:26:21.267067Z",
     "iopub.status.busy": "2024-06-19T15:26:21.266659Z",
     "iopub.status.idle": "2024-06-19T15:26:21.295019Z",
     "shell.execute_reply": "2024-06-19T15:26:21.293762Z"
    },
    "papermill": {
     "duration": 0.046128,
     "end_time": "2024-06-19T15:26:21.298304",
     "exception": false,
     "start_time": "2024-06-19T15:26:21.252176",
     "status": "completed"
    },
    "tags": []
   },
   "outputs": [
    {
     "name": "stdout",
     "output_type": "stream",
     "text": [
      "<class 'pandas.core.frame.DataFrame'>\n",
      "RangeIndex: 1659 entries, 0 to 1658\n",
      "Data columns (total 54 columns):\n",
      " #   Column                         Non-Null Count  Dtype  \n",
      "---  ------                         --------------  -----  \n",
      " 0   PatientID                      1659 non-null   int64  \n",
      " 1   Age                            1659 non-null   int64  \n",
      " 2   Gender                         1659 non-null   int64  \n",
      " 3   Ethnicity                      1659 non-null   int64  \n",
      " 4   SocioeconomicStatus            1659 non-null   int64  \n",
      " 5   EducationLevel                 1659 non-null   int64  \n",
      " 6   BMI                            1659 non-null   float64\n",
      " 7   Smoking                        1659 non-null   int64  \n",
      " 8   AlcoholConsumption             1659 non-null   float64\n",
      " 9   PhysicalActivity               1659 non-null   float64\n",
      " 10  DietQuality                    1659 non-null   float64\n",
      " 11  SleepQuality                   1659 non-null   float64\n",
      " 12  FamilyHistoryKidneyDisease     1659 non-null   int64  \n",
      " 13  FamilyHistoryHypertension      1659 non-null   int64  \n",
      " 14  FamilyHistoryDiabetes          1659 non-null   int64  \n",
      " 15  PreviousAcuteKidneyInjury      1659 non-null   int64  \n",
      " 16  UrinaryTractInfections         1659 non-null   int64  \n",
      " 17  SystolicBP                     1659 non-null   int64  \n",
      " 18  DiastolicBP                    1659 non-null   int64  \n",
      " 19  FastingBloodSugar              1659 non-null   float64\n",
      " 20  HbA1c                          1659 non-null   float64\n",
      " 21  SerumCreatinine                1659 non-null   float64\n",
      " 22  BUNLevels                      1659 non-null   float64\n",
      " 23  GFR                            1659 non-null   float64\n",
      " 24  ProteinInUrine                 1659 non-null   float64\n",
      " 25  ACR                            1659 non-null   float64\n",
      " 26  SerumElectrolytesSodium        1659 non-null   float64\n",
      " 27  SerumElectrolytesPotassium     1659 non-null   float64\n",
      " 28  SerumElectrolytesCalcium       1659 non-null   float64\n",
      " 29  SerumElectrolytesPhosphorus    1659 non-null   float64\n",
      " 30  HemoglobinLevels               1659 non-null   float64\n",
      " 31  CholesterolTotal               1659 non-null   float64\n",
      " 32  CholesterolLDL                 1659 non-null   float64\n",
      " 33  CholesterolHDL                 1659 non-null   float64\n",
      " 34  CholesterolTriglycerides       1659 non-null   float64\n",
      " 35  ACEInhibitors                  1659 non-null   int64  \n",
      " 36  Diuretics                      1659 non-null   int64  \n",
      " 37  NSAIDsUse                      1659 non-null   float64\n",
      " 38  Statins                        1659 non-null   int64  \n",
      " 39  AntidiabeticMedications        1659 non-null   int64  \n",
      " 40  Edema                          1659 non-null   int64  \n",
      " 41  FatigueLevels                  1659 non-null   float64\n",
      " 42  NauseaVomiting                 1659 non-null   float64\n",
      " 43  MuscleCramps                   1659 non-null   float64\n",
      " 44  Itching                        1659 non-null   float64\n",
      " 45  QualityOfLifeScore             1659 non-null   float64\n",
      " 46  HeavyMetalsExposure            1659 non-null   int64  \n",
      " 47  OccupationalExposureChemicals  1659 non-null   int64  \n",
      " 48  WaterQuality                   1659 non-null   int64  \n",
      " 49  MedicalCheckupsFrequency       1659 non-null   float64\n",
      " 50  MedicationAdherence            1659 non-null   float64\n",
      " 51  HealthLiteracy                 1659 non-null   float64\n",
      " 52  Diagnosis                      1659 non-null   int64  \n",
      " 53  DoctorInCharge                 1659 non-null   object \n",
      "dtypes: float64(30), int64(23), object(1)\n",
      "memory usage: 700.0+ KB\n"
     ]
    }
   ],
   "source": [
    "data.info()"
   ]
  },
  {
   "cell_type": "code",
   "execution_count": 6,
   "id": "2df3b0f5",
   "metadata": {
    "execution": {
     "iopub.execute_input": "2024-06-19T15:26:21.326589Z",
     "iopub.status.busy": "2024-06-19T15:26:21.325509Z",
     "iopub.status.idle": "2024-06-19T15:26:21.335429Z",
     "shell.execute_reply": "2024-06-19T15:26:21.334120Z"
    },
    "papermill": {
     "duration": 0.026606,
     "end_time": "2024-06-19T15:26:21.337864",
     "exception": false,
     "start_time": "2024-06-19T15:26:21.311258",
     "status": "completed"
    },
    "tags": []
   },
   "outputs": [
    {
     "data": {
      "text/plain": [
       "array([1, 0])"
      ]
     },
     "execution_count": 6,
     "metadata": {},
     "output_type": "execute_result"
    }
   ],
   "source": [
    "data[\"Diagnosis\"].unique()"
   ]
  },
  {
   "cell_type": "code",
   "execution_count": 7,
   "id": "b13377e1",
   "metadata": {
    "execution": {
     "iopub.execute_input": "2024-06-19T15:26:21.366207Z",
     "iopub.status.busy": "2024-06-19T15:26:21.365782Z",
     "iopub.status.idle": "2024-06-19T15:26:21.376856Z",
     "shell.execute_reply": "2024-06-19T15:26:21.375813Z"
    },
    "papermill": {
     "duration": 0.028095,
     "end_time": "2024-06-19T15:26:21.379396",
     "exception": false,
     "start_time": "2024-06-19T15:26:21.351301",
     "status": "completed"
    },
    "tags": []
   },
   "outputs": [
    {
     "data": {
      "text/plain": [
       "PatientID                        0\n",
       "Age                              0\n",
       "Gender                           0\n",
       "Ethnicity                        0\n",
       "SocioeconomicStatus              0\n",
       "EducationLevel                   0\n",
       "BMI                              0\n",
       "Smoking                          0\n",
       "AlcoholConsumption               0\n",
       "PhysicalActivity                 0\n",
       "DietQuality                      0\n",
       "SleepQuality                     0\n",
       "FamilyHistoryKidneyDisease       0\n",
       "FamilyHistoryHypertension        0\n",
       "FamilyHistoryDiabetes            0\n",
       "PreviousAcuteKidneyInjury        0\n",
       "UrinaryTractInfections           0\n",
       "SystolicBP                       0\n",
       "DiastolicBP                      0\n",
       "FastingBloodSugar                0\n",
       "HbA1c                            0\n",
       "SerumCreatinine                  0\n",
       "BUNLevels                        0\n",
       "GFR                              0\n",
       "ProteinInUrine                   0\n",
       "ACR                              0\n",
       "SerumElectrolytesSodium          0\n",
       "SerumElectrolytesPotassium       0\n",
       "SerumElectrolytesCalcium         0\n",
       "SerumElectrolytesPhosphorus      0\n",
       "HemoglobinLevels                 0\n",
       "CholesterolTotal                 0\n",
       "CholesterolLDL                   0\n",
       "CholesterolHDL                   0\n",
       "CholesterolTriglycerides         0\n",
       "ACEInhibitors                    0\n",
       "Diuretics                        0\n",
       "NSAIDsUse                        0\n",
       "Statins                          0\n",
       "AntidiabeticMedications          0\n",
       "Edema                            0\n",
       "FatigueLevels                    0\n",
       "NauseaVomiting                   0\n",
       "MuscleCramps                     0\n",
       "Itching                          0\n",
       "QualityOfLifeScore               0\n",
       "HeavyMetalsExposure              0\n",
       "OccupationalExposureChemicals    0\n",
       "WaterQuality                     0\n",
       "MedicalCheckupsFrequency         0\n",
       "MedicationAdherence              0\n",
       "HealthLiteracy                   0\n",
       "Diagnosis                        0\n",
       "DoctorInCharge                   0\n",
       "dtype: int64"
      ]
     },
     "execution_count": 7,
     "metadata": {},
     "output_type": "execute_result"
    }
   ],
   "source": [
    "data.isnull().sum()"
   ]
  },
  {
   "cell_type": "code",
   "execution_count": 8,
   "id": "6a430f9e",
   "metadata": {
    "execution": {
     "iopub.execute_input": "2024-06-19T15:26:21.408087Z",
     "iopub.status.busy": "2024-06-19T15:26:21.407700Z",
     "iopub.status.idle": "2024-06-19T15:26:21.422560Z",
     "shell.execute_reply": "2024-06-19T15:26:21.421342Z"
    },
    "papermill": {
     "duration": 0.032752,
     "end_time": "2024-06-19T15:26:21.425367",
     "exception": false,
     "start_time": "2024-06-19T15:26:21.392615",
     "status": "completed"
    },
    "tags": []
   },
   "outputs": [
    {
     "data": {
      "text/plain": [
       "PatientID                        0.0\n",
       "Age                              0.0\n",
       "Gender                           0.0\n",
       "Ethnicity                        0.0\n",
       "SocioeconomicStatus              0.0\n",
       "EducationLevel                   0.0\n",
       "BMI                              0.0\n",
       "Smoking                          0.0\n",
       "AlcoholConsumption               0.0\n",
       "PhysicalActivity                 0.0\n",
       "DietQuality                      0.0\n",
       "SleepQuality                     0.0\n",
       "FamilyHistoryKidneyDisease       0.0\n",
       "FamilyHistoryHypertension        0.0\n",
       "FamilyHistoryDiabetes            0.0\n",
       "PreviousAcuteKidneyInjury        0.0\n",
       "UrinaryTractInfections           0.0\n",
       "SystolicBP                       0.0\n",
       "DiastolicBP                      0.0\n",
       "FastingBloodSugar                0.0\n",
       "HbA1c                            0.0\n",
       "SerumCreatinine                  0.0\n",
       "BUNLevels                        0.0\n",
       "GFR                              0.0\n",
       "ProteinInUrine                   0.0\n",
       "ACR                              0.0\n",
       "SerumElectrolytesSodium          0.0\n",
       "SerumElectrolytesPotassium       0.0\n",
       "SerumElectrolytesCalcium         0.0\n",
       "SerumElectrolytesPhosphorus      0.0\n",
       "HemoglobinLevels                 0.0\n",
       "CholesterolTotal                 0.0\n",
       "CholesterolLDL                   0.0\n",
       "CholesterolHDL                   0.0\n",
       "CholesterolTriglycerides         0.0\n",
       "ACEInhibitors                    0.0\n",
       "Diuretics                        0.0\n",
       "NSAIDsUse                        0.0\n",
       "Statins                          0.0\n",
       "AntidiabeticMedications          0.0\n",
       "Edema                            0.0\n",
       "FatigueLevels                    0.0\n",
       "NauseaVomiting                   0.0\n",
       "MuscleCramps                     0.0\n",
       "Itching                          0.0\n",
       "QualityOfLifeScore               0.0\n",
       "HeavyMetalsExposure              0.0\n",
       "OccupationalExposureChemicals    0.0\n",
       "WaterQuality                     0.0\n",
       "MedicalCheckupsFrequency         0.0\n",
       "MedicationAdherence              0.0\n",
       "HealthLiteracy                   0.0\n",
       "Diagnosis                        0.0\n",
       "DoctorInCharge                   0.0\n",
       "dtype: float64"
      ]
     },
     "execution_count": 8,
     "metadata": {},
     "output_type": "execute_result"
    }
   ],
   "source": [
    "(data.isnull().sum()/(len(data)))*100"
   ]
  },
  {
   "cell_type": "code",
   "execution_count": 9,
   "id": "e3aeef1a",
   "metadata": {
    "execution": {
     "iopub.execute_input": "2024-06-19T15:26:21.454296Z",
     "iopub.status.busy": "2024-06-19T15:26:21.453829Z",
     "iopub.status.idle": "2024-06-19T15:26:21.461147Z",
     "shell.execute_reply": "2024-06-19T15:26:21.459907Z"
    },
    "papermill": {
     "duration": 0.02451,
     "end_time": "2024-06-19T15:26:21.463556",
     "exception": false,
     "start_time": "2024-06-19T15:26:21.439046",
     "status": "completed"
    },
    "tags": []
   },
   "outputs": [
    {
     "data": {
      "text/plain": [
       "(1659, 54)"
      ]
     },
     "execution_count": 9,
     "metadata": {},
     "output_type": "execute_result"
    }
   ],
   "source": [
    "data.shape"
   ]
  },
  {
   "cell_type": "code",
   "execution_count": 10,
   "id": "50ee702d",
   "metadata": {
    "execution": {
     "iopub.execute_input": "2024-06-19T15:26:21.492287Z",
     "iopub.status.busy": "2024-06-19T15:26:21.491825Z",
     "iopub.status.idle": "2024-06-19T15:26:21.511201Z",
     "shell.execute_reply": "2024-06-19T15:26:21.509883Z"
    },
    "papermill": {
     "duration": 0.036859,
     "end_time": "2024-06-19T15:26:21.513868",
     "exception": false,
     "start_time": "2024-06-19T15:26:21.477009",
     "status": "completed"
    },
    "tags": []
   },
   "outputs": [
    {
     "data": {
      "text/plain": [
       "PatientID                        1659\n",
       "Age                                71\n",
       "Gender                              2\n",
       "Ethnicity                           4\n",
       "SocioeconomicStatus                 3\n",
       "EducationLevel                      4\n",
       "BMI                              1659\n",
       "Smoking                             2\n",
       "AlcoholConsumption               1659\n",
       "PhysicalActivity                 1659\n",
       "DietQuality                      1659\n",
       "SleepQuality                     1659\n",
       "FamilyHistoryKidneyDisease          2\n",
       "FamilyHistoryHypertension           2\n",
       "FamilyHistoryDiabetes               2\n",
       "PreviousAcuteKidneyInjury           2\n",
       "UrinaryTractInfections              2\n",
       "SystolicBP                         90\n",
       "DiastolicBP                        60\n",
       "FastingBloodSugar                1659\n",
       "HbA1c                            1659\n",
       "SerumCreatinine                  1659\n",
       "BUNLevels                        1659\n",
       "GFR                              1659\n",
       "ProteinInUrine                   1659\n",
       "ACR                              1659\n",
       "SerumElectrolytesSodium          1659\n",
       "SerumElectrolytesPotassium       1659\n",
       "SerumElectrolytesCalcium         1659\n",
       "SerumElectrolytesPhosphorus      1659\n",
       "HemoglobinLevels                 1659\n",
       "CholesterolTotal                 1659\n",
       "CholesterolLDL                   1659\n",
       "CholesterolHDL                   1659\n",
       "CholesterolTriglycerides         1659\n",
       "ACEInhibitors                       2\n",
       "Diuretics                           2\n",
       "NSAIDsUse                        1659\n",
       "Statins                             2\n",
       "AntidiabeticMedications             2\n",
       "Edema                               2\n",
       "FatigueLevels                    1659\n",
       "NauseaVomiting                   1659\n",
       "MuscleCramps                     1659\n",
       "Itching                          1659\n",
       "QualityOfLifeScore               1659\n",
       "HeavyMetalsExposure                 2\n",
       "OccupationalExposureChemicals       2\n",
       "WaterQuality                        2\n",
       "MedicalCheckupsFrequency         1659\n",
       "MedicationAdherence              1659\n",
       "HealthLiteracy                   1659\n",
       "Diagnosis                           2\n",
       "DoctorInCharge                      1\n",
       "dtype: int64"
      ]
     },
     "execution_count": 10,
     "metadata": {},
     "output_type": "execute_result"
    }
   ],
   "source": [
    "data.nunique()"
   ]
  },
  {
   "cell_type": "code",
   "execution_count": 11,
   "id": "79a8a9b3",
   "metadata": {
    "execution": {
     "iopub.execute_input": "2024-06-19T15:26:21.543847Z",
     "iopub.status.busy": "2024-06-19T15:26:21.543452Z",
     "iopub.status.idle": "2024-06-19T15:26:21.564178Z",
     "shell.execute_reply": "2024-06-19T15:26:21.562690Z"
    },
    "papermill": {
     "duration": 0.039212,
     "end_time": "2024-06-19T15:26:21.567020",
     "exception": false,
     "start_time": "2024-06-19T15:26:21.527808",
     "status": "completed"
    },
    "tags": []
   },
   "outputs": [
    {
     "name": "stdout",
     "output_type": "stream",
     "text": [
      "   Gender  Ethnicity  SocioeconomicStatus  EducationLevel        BMI  Smoking  \\\n",
      "0       0          0                    0               2  31.069414        1   \n",
      "1       0          0                    1               3  29.692119        1   \n",
      "2       1          1                    0               1  37.394822        1   \n",
      "3       0          2                    0               1  31.329680        0   \n",
      "4       0          1                    1               2  23.726311        0   \n",
      "5       0          0                    0               1  39.155643        0   \n",
      "6       0          1                    0               1  35.040487        0   \n",
      "7       1          0                    1               3  30.760440        1   \n",
      "8       0          1                    0               2  22.323130        0   \n",
      "9       0          3                    0               1  24.338507        0   \n",
      "\n",
      "   AlcoholConsumption  PhysicalActivity  DietQuality  SleepQuality  ...  \\\n",
      "0            5.128112          1.676220     0.240386      4.076434  ...   \n",
      "1           18.609552          8.377574     6.503233      7.652813  ...   \n",
      "2           11.882429          9.607401     2.104828      4.392786  ...   \n",
      "3           16.020165          0.408871     6.964422      6.282274  ...   \n",
      "4            7.944146          0.780319     3.097796      4.021639  ...   \n",
      "5            4.243608          8.847245     8.730063      7.691365  ...   \n",
      "6           18.224708          8.155523     3.369138      6.552491  ...   \n",
      "7           18.662717          6.179345     6.196959      4.762125  ...   \n",
      "8            9.951503          9.449652     2.859276      5.778206  ...   \n",
      "9            0.129900          6.464306     9.172215      7.417964  ...   \n",
      "\n",
      "   NauseaVomiting  MuscleCramps   Itching  QualityOfLifeScore  \\\n",
      "0        6.992244      4.518513  7.556302           76.076800   \n",
      "1        0.356290      2.202222  6.836766           40.128498   \n",
      "2        4.674069      5.967271  2.144722           92.872842   \n",
      "3        5.691455      2.176387  7.077188           90.080321   \n",
      "4        2.273459      6.800993  3.553118            5.258372   \n",
      "5        4.855455      3.344124  8.685695           12.794110   \n",
      "6        1.313680      6.672729  1.995016           38.723030   \n",
      "7        0.895714      1.285188  2.178408           92.939765   \n",
      "8        6.477113      0.079790  9.605863           84.420517   \n",
      "9        4.497750      1.372919  5.170201            4.776171   \n",
      "\n",
      "   HeavyMetalsExposure  OccupationalExposureChemicals  WaterQuality  \\\n",
      "0                    0                              0             1   \n",
      "1                    0                              0             0   \n",
      "2                    0                              1             1   \n",
      "3                    0                              0             0   \n",
      "4                    0                              0             1   \n",
      "5                    0                              0             0   \n",
      "6                    0                              0             1   \n",
      "7                    0                              0             0   \n",
      "8                    0                              0             1   \n",
      "9                    0                              0             0   \n",
      "\n",
      "   MedicalCheckupsFrequency  MedicationAdherence  HealthLiteracy  \n",
      "0                  1.018824             4.966808        9.871449  \n",
      "1                  3.923538             8.189275        7.161765  \n",
      "2                  1.429906             7.624028        7.354632  \n",
      "3                  3.226416             3.282688        6.629587  \n",
      "4                  0.285466             3.849498        1.437385  \n",
      "5                  0.358613             5.766704        2.066944  \n",
      "6                  2.744605             5.515760        3.856676  \n",
      "7                  1.828836             8.620466        9.954670  \n",
      "8                  3.521973             4.724738        6.725741  \n",
      "9                  3.448881             8.935090        4.423802  \n",
      "\n",
      "[10 rows x 50 columns]\n",
      "   Diagnosis\n",
      "0          1\n",
      "1          1\n",
      "2          1\n",
      "3          1\n",
      "4          1\n",
      "5          1\n",
      "6          1\n",
      "7          0\n",
      "8          1\n",
      "9          1\n"
     ]
    }
   ],
   "source": [
    "X = data.iloc[:, 2:-2]\n",
    "y = data.iloc[:, -2:-1]\n",
    "\n",
    "print(X[:10])\n",
    "print(y[:10])"
   ]
  },
  {
   "cell_type": "code",
   "execution_count": 12,
   "id": "a3412677",
   "metadata": {
    "execution": {
     "iopub.execute_input": "2024-06-19T15:26:21.597568Z",
     "iopub.status.busy": "2024-06-19T15:26:21.596570Z",
     "iopub.status.idle": "2024-06-19T15:26:21.602439Z",
     "shell.execute_reply": "2024-06-19T15:26:21.601225Z"
    },
    "papermill": {
     "duration": 0.023971,
     "end_time": "2024-06-19T15:26:21.604956",
     "exception": false,
     "start_time": "2024-06-19T15:26:21.580985",
     "status": "completed"
    },
    "tags": []
   },
   "outputs": [],
   "source": [
    "# Turn into numpy array\n",
    "X = X.values\n",
    "y = y.values"
   ]
  },
  {
   "cell_type": "markdown",
   "id": "127e409f",
   "metadata": {
    "papermill": {
     "duration": 0.013961,
     "end_time": "2024-06-19T15:26:21.633193",
     "exception": false,
     "start_time": "2024-06-19T15:26:21.619232",
     "status": "completed"
    },
    "tags": []
   },
   "source": [
    "# Split Train & Test Sets"
   ]
  },
  {
   "cell_type": "code",
   "execution_count": 13,
   "id": "6aa5807a",
   "metadata": {
    "execution": {
     "iopub.execute_input": "2024-06-19T15:26:21.663861Z",
     "iopub.status.busy": "2024-06-19T15:26:21.663418Z",
     "iopub.status.idle": "2024-06-19T15:26:27.371255Z",
     "shell.execute_reply": "2024-06-19T15:26:27.370049Z"
    },
    "papermill": {
     "duration": 5.726538,
     "end_time": "2024-06-19T15:26:27.374027",
     "exception": false,
     "start_time": "2024-06-19T15:26:21.647489",
     "status": "completed"
    },
    "tags": []
   },
   "outputs": [
    {
     "name": "stdout",
     "output_type": "stream",
     "text": [
      "1327 332 1327 332\n"
     ]
    }
   ],
   "source": [
    "import torch\n",
    "\n",
    "random_state = 42\n",
    "device = \"cuda\" if torch.cuda.is_available() else \"cpu\"\n",
    "\n",
    "from sklearn.model_selection import train_test_split\n",
    "\n",
    "X = torch.from_numpy(X).type(torch.float)\n",
    "y = torch.from_numpy(y).type(torch.float)\n",
    "\n",
    "X_train, X_test, y_train, y_test = train_test_split(X, \n",
    "                                                    y, \n",
    "                                                    test_size=0.2, \n",
    "                                                    random_state=random_state)\n",
    "\n",
    "print(len(X_train), len(X_test), len(y_train), len(y_test))"
   ]
  },
  {
   "cell_type": "code",
   "execution_count": 14,
   "id": "381dca98",
   "metadata": {
    "execution": {
     "iopub.execute_input": "2024-06-19T15:26:27.405182Z",
     "iopub.status.busy": "2024-06-19T15:26:27.404563Z",
     "iopub.status.idle": "2024-06-19T15:26:27.412536Z",
     "shell.execute_reply": "2024-06-19T15:26:27.411467Z"
    },
    "papermill": {
     "duration": 0.026195,
     "end_time": "2024-06-19T15:26:27.414917",
     "exception": false,
     "start_time": "2024-06-19T15:26:27.388722",
     "status": "completed"
    },
    "tags": []
   },
   "outputs": [
    {
     "data": {
      "text/plain": [
       "(torch.Size([1327, 50]),\n",
       " torch.Size([332, 50]),\n",
       " torch.Size([1327, 1]),\n",
       " torch.Size([332, 1]))"
      ]
     },
     "execution_count": 14,
     "metadata": {},
     "output_type": "execute_result"
    }
   ],
   "source": [
    "X_train.shape, X_test.shape, y_train.shape, y_test.shape"
   ]
  },
  {
   "cell_type": "markdown",
   "id": "992c1e06",
   "metadata": {
    "papermill": {
     "duration": 0.014004,
     "end_time": "2024-06-19T15:26:27.443020",
     "exception": false,
     "start_time": "2024-06-19T15:26:27.429016",
     "status": "completed"
    },
    "tags": []
   },
   "source": [
    "# Build Binary Classification Model"
   ]
  },
  {
   "cell_type": "code",
   "execution_count": 15,
   "id": "59e3b6e2",
   "metadata": {
    "execution": {
     "iopub.execute_input": "2024-06-19T15:26:27.473841Z",
     "iopub.status.busy": "2024-06-19T15:26:27.473412Z",
     "iopub.status.idle": "2024-06-19T15:26:27.499894Z",
     "shell.execute_reply": "2024-06-19T15:26:27.498538Z"
    },
    "papermill": {
     "duration": 0.044813,
     "end_time": "2024-06-19T15:26:27.502598",
     "exception": false,
     "start_time": "2024-06-19T15:26:27.457785",
     "status": "completed"
    },
    "tags": []
   },
   "outputs": [
    {
     "data": {
      "text/plain": [
       "KidneyModelV0(\n",
       "  (layer_1): Linear(in_features=50, out_features=32, bias=True)\n",
       "  (layer_2): Linear(in_features=32, out_features=1, bias=True)\n",
       "  (relu): ReLU()\n",
       ")"
      ]
     },
     "execution_count": 15,
     "metadata": {},
     "output_type": "execute_result"
    }
   ],
   "source": [
    "from torch import nn\n",
    "\n",
    "class KidneyModelV0(nn.Module):\n",
    "    def __init__(self):\n",
    "        super().__init__()\n",
    "        self.layer_1 = nn.Linear(in_features=50, out_features=32)\n",
    "        self.layer_2 = nn.Linear(in_features=32, out_features=1)\n",
    "        self.relu = nn.ReLU()\n",
    "    \n",
    "    def forward(self, X):\n",
    "        z = self.layer_1(X)\n",
    "        z = self.relu(z)\n",
    "        z = self.layer_2(z)\n",
    "        return z\n",
    "\n",
    "model_0 = KidneyModelV0().to(device)\n",
    "model_0     "
   ]
  },
  {
   "cell_type": "markdown",
   "id": "e1eaec79",
   "metadata": {
    "papermill": {
     "duration": 0.014475,
     "end_time": "2024-06-19T15:26:27.532232",
     "exception": false,
     "start_time": "2024-06-19T15:26:27.517757",
     "status": "completed"
    },
    "tags": []
   },
   "source": [
    "# Loss function & Optimizer"
   ]
  },
  {
   "cell_type": "code",
   "execution_count": 16,
   "id": "2a648832",
   "metadata": {
    "execution": {
     "iopub.execute_input": "2024-06-19T15:26:27.563768Z",
     "iopub.status.busy": "2024-06-19T15:26:27.563339Z",
     "iopub.status.idle": "2024-06-19T15:26:29.189971Z",
     "shell.execute_reply": "2024-06-19T15:26:29.188729Z"
    },
    "papermill": {
     "duration": 1.64556,
     "end_time": "2024-06-19T15:26:29.192974",
     "exception": false,
     "start_time": "2024-06-19T15:26:27.547414",
     "status": "completed"
    },
    "tags": []
   },
   "outputs": [],
   "source": [
    "loss_fn = nn.BCEWithLogitsLoss()\n",
    "\n",
    "optimizer = torch.optim.Adam(params=model_0.parameters(),\n",
    "                           lr=0.0001)"
   ]
  },
  {
   "cell_type": "code",
   "execution_count": 17,
   "id": "c2d9d510",
   "metadata": {
    "execution": {
     "iopub.execute_input": "2024-06-19T15:26:29.223796Z",
     "iopub.status.busy": "2024-06-19T15:26:29.223191Z",
     "iopub.status.idle": "2024-06-19T15:26:48.624318Z",
     "shell.execute_reply": "2024-06-19T15:26:48.623023Z"
    },
    "papermill": {
     "duration": 19.41975,
     "end_time": "2024-06-19T15:26:48.627148",
     "exception": false,
     "start_time": "2024-06-19T15:26:29.207398",
     "status": "completed"
    },
    "tags": []
   },
   "outputs": [
    {
     "data": {
      "text/plain": [
       "BinaryAccuracy()"
      ]
     },
     "execution_count": 17,
     "metadata": {},
     "output_type": "execute_result"
    }
   ],
   "source": [
    "!pip -q install torchmetrics\n",
    "from torchmetrics import Accuracy\n",
    "\n",
    "acc_fn = Accuracy(task=\"binary\").to(device)\n",
    "acc_fn"
   ]
  },
  {
   "cell_type": "markdown",
   "id": "86175f15",
   "metadata": {
    "papermill": {
     "duration": 0.014204,
     "end_time": "2024-06-19T15:26:48.656115",
     "exception": false,
     "start_time": "2024-06-19T15:26:48.641911",
     "status": "completed"
    },
    "tags": []
   },
   "source": [
    "# Training & Testing loop"
   ]
  },
  {
   "cell_type": "code",
   "execution_count": 18,
   "id": "be1871d7",
   "metadata": {
    "execution": {
     "iopub.execute_input": "2024-06-19T15:26:48.687404Z",
     "iopub.status.busy": "2024-06-19T15:26:48.686962Z",
     "iopub.status.idle": "2024-06-19T15:26:49.359641Z",
     "shell.execute_reply": "2024-06-19T15:26:49.358446Z"
    },
    "papermill": {
     "duration": 0.691706,
     "end_time": "2024-06-19T15:26:49.362477",
     "exception": false,
     "start_time": "2024-06-19T15:26:48.670771",
     "status": "completed"
    },
    "tags": []
   },
   "outputs": [
    {
     "name": "stdout",
     "output_type": "stream",
     "text": [
      "Epoch: 0 | Loss: 9.90998 | Acc: 0.08% | Test Loss: 10.00071 | Loss Acc: 0.07%\n",
      "Epoch: 10 | Loss: 7.78088 | Acc: 0.09% | Test Loss: 7.85721 | Loss Acc: 0.07%\n",
      "Epoch: 20 | Loss: 5.74382 | Acc: 0.10% | Test Loss: 5.80962 | Loss Acc: 0.08%\n",
      "Epoch: 30 | Loss: 3.90827 | Acc: 0.16% | Test Loss: 3.97393 | Loss Acc: 0.11%\n",
      "Epoch: 40 | Loss: 2.47320 | Acc: 0.30% | Test Loss: 2.54352 | Loss Acc: 0.29%\n",
      "Epoch: 50 | Loss: 1.55345 | Acc: 0.48% | Test Loss: 1.60731 | Loss Acc: 0.48%\n",
      "Epoch: 60 | Loss: 1.05475 | Acc: 0.63% | Test Loss: 1.07649 | Loss Acc: 0.60%\n",
      "Epoch: 70 | Loss: 0.80302 | Acc: 0.72% | Test Loss: 0.79769 | Loss Acc: 0.68%\n",
      "Epoch: 80 | Loss: 0.67886 | Acc: 0.79% | Test Loss: 0.65490 | Loss Acc: 0.76%\n",
      "Epoch: 90 | Loss: 0.61753 | Acc: 0.82% | Test Loss: 0.58238 | Loss Acc: 0.80%\n",
      "Epoch: 100 | Loss: 0.58365 | Acc: 0.84% | Test Loss: 0.54457 | Loss Acc: 0.84%\n",
      "Epoch: 110 | Loss: 0.56301 | Acc: 0.85% | Test Loss: 0.52470 | Loss Acc: 0.87%\n",
      "Epoch: 120 | Loss: 0.54847 | Acc: 0.86% | Test Loss: 0.51123 | Loss Acc: 0.88%\n",
      "Epoch: 130 | Loss: 0.53736 | Acc: 0.87% | Test Loss: 0.50301 | Loss Acc: 0.89%\n",
      "Epoch: 140 | Loss: 0.52784 | Acc: 0.88% | Test Loss: 0.49865 | Loss Acc: 0.90%\n",
      "Epoch: 149 | Loss: 0.51996 | Acc: 0.88% | Test Loss: 0.49596 | Loss Acc: 0.90%\n"
     ]
    }
   ],
   "source": [
    "torch.manual_seed(random_state)\n",
    "torch.cuda.manual_seed(random_state)\n",
    "\n",
    "X_train, X_test, y_train, y_test = X_train.to(device), X_test.to(device), y_train.to(device), y_test.to(device)\n",
    "\n",
    "epochs = 150\n",
    "\n",
    "for epoch in range(epochs):\n",
    "    model_0.train()\n",
    "    \n",
    "    y_logits = model_0(X_train).squeeze()\n",
    "    y_pred_prob = torch.sigmoid(y_logits)\n",
    "    y_pred = torch.round(y_pred_prob)\n",
    "    \n",
    "    y_train_flat = y_train.squeeze()\n",
    "    \n",
    "    loss = loss_fn(y_logits, y_train_flat)\n",
    "    \n",
    "    acc = acc_fn(y_pred, y_train_flat)\n",
    "    \n",
    "    optimizer.zero_grad()\n",
    "    \n",
    "    loss.backward()\n",
    "    \n",
    "    optimizer.step()\n",
    "    \n",
    "    model_0.eval()\n",
    "    with torch.inference_mode():\n",
    "        test_logits = model_0(X_test).squeeze()\n",
    "        test_pred_prob = torch.sigmoid(test_logits)\n",
    "        test_pred = torch.round(test_pred_prob)\n",
    "        \n",
    "        y_test_flat = y_test.squeeze()\n",
    "        \n",
    "        test_loss = loss_fn(test_logits, y_test_flat)\n",
    "        \n",
    "        test_acc = acc_fn(test_pred, y_test_flat)\n",
    "        \n",
    "    if epoch % 10 == 0 or epoch == epochs - 1:\n",
    "        print(f\"Epoch: {epoch} | Loss: {loss:.5f} | Acc: {acc:.2f}% | Test Loss: {test_loss:.5f} | Loss Acc: {test_acc:.2f}%\")"
   ]
  }
 ],
 "metadata": {
  "kaggle": {
   "accelerator": "none",
   "dataSources": [
    {
     "datasetId": 5187141,
     "sourceId": 8658224,
     "sourceType": "datasetVersion"
    }
   ],
   "dockerImageVersionId": 30732,
   "isGpuEnabled": false,
   "isInternetEnabled": true,
   "language": "python",
   "sourceType": "notebook"
  },
  "kernelspec": {
   "display_name": "Python 3",
   "language": "python",
   "name": "python3"
  },
  "language_info": {
   "codemirror_mode": {
    "name": "ipython",
    "version": 3
   },
   "file_extension": ".py",
   "mimetype": "text/x-python",
   "name": "python",
   "nbconvert_exporter": "python",
   "pygments_lexer": "ipython3",
   "version": "3.10.13"
  },
  "papermill": {
   "default_parameters": {},
   "duration": 48.845241,
   "end_time": "2024-06-19T15:26:51.205802",
   "environment_variables": {},
   "exception": null,
   "input_path": "__notebook__.ipynb",
   "output_path": "__notebook__.ipynb",
   "parameters": {},
   "start_time": "2024-06-19T15:26:02.360561",
   "version": "2.5.0"
  }
 },
 "nbformat": 4,
 "nbformat_minor": 5
}
